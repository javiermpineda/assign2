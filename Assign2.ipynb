{
  "nbformat": 4,
  "nbformat_minor": 0,
  "metadata": {
    "colab": {
      "provenance": []
    },
    "kernelspec": {
      "name": "python3",
      "display_name": "Python 3"
    },
    "language_info": {
      "name": "python"
    }
  },
  "cells": [
    {
      "cell_type": "markdown",
      "source": [
        "Q1"
      ],
      "metadata": {
        "id": "31nHwG2EsBrs"
      }
    },
    {
      "cell_type": "code",
      "execution_count": 2,
      "metadata": {
        "id": "N7--ogWtrRQR"
      },
      "outputs": [],
      "source": [
        "class vehicle:\n",
        "  def __init__(self,name_of_vehicle,max_speed,average_of_vehicle):\n",
        "    self.name_of_vehicle=name_of_vehicle\n",
        "    self.max_speed=max_speed\n",
        "    self.average_of_vehicle=average_of_vehicle"
      ]
    },
    {
      "cell_type": "markdown",
      "source": [
        "Q2"
      ],
      "metadata": {
        "id": "wo-VX5nCsIeG"
      }
    },
    {
      "cell_type": "code",
      "source": [
        "class car(vehicle):\n",
        "  def seating_capacity(self,capacity):\n",
        "    print(f'Vehicle name: {self.name_of_vehicle}, and seating_capacity: {capacity}')"
      ],
      "metadata": {
        "id": "eIkFKBqOsBDI"
      },
      "execution_count": 3,
      "outputs": []
    },
    {
      "cell_type": "code",
      "source": [
        "car1 = car('Honda',15000,233000)\n",
        "car1.seating_capacity(4)"
      ],
      "metadata": {
        "colab": {
          "base_uri": "https://localhost:8080/"
        },
        "id": "GYHdCjnBtFGL",
        "outputId": "c3a702b3-e658-4d8c-ff49-25dcb2ff8b62"
      },
      "execution_count": 6,
      "outputs": [
        {
          "output_type": "stream",
          "name": "stdout",
          "text": [
            "Vehicle name: Honda, and seating_capacity: 4\n"
          ]
        }
      ]
    },
    {
      "cell_type": "markdown",
      "source": [
        "Q3- Multiple inheritance is when a class inherence from 2 different classes, you can say from a mother and a father and the result is a child"
      ],
      "metadata": {
        "id": "llP8GcGStb-a"
      }
    },
    {
      "cell_type": "code",
      "source": [
        "class food:\n",
        "  def food_name(self,name):\n",
        "     self.name=name\n",
        "class fruit:\n",
        "   def flavor_fruit(self,flavor):\n",
        "      self.flavor"
      ],
      "metadata": {
        "id": "ofrTquMXtbpt"
      },
      "execution_count": 10,
      "outputs": []
    },
    {
      "cell_type": "code",
      "source": [
        "class dessert(food,fruit):\n",
        "   def dessert_name(self,name,flavor,dname):\n",
        "     print(f\"name: {name} , flavor:{flavor}, dessert: {dname}\")"
      ],
      "metadata": {
        "id": "J9yVvLWfu9XG"
      },
      "execution_count": 23,
      "outputs": []
    },
    {
      "cell_type": "code",
      "source": [
        "apple_pie= dessert()\n",
        "apple_pie.dessert_name('pie','sweet','apple_pie')"
      ],
      "metadata": {
        "colab": {
          "base_uri": "https://localhost:8080/"
        },
        "id": "DcOytj0nv8l7",
        "outputId": "83f07384-fdfb-47f8-ea0c-04c4a7183045"
      },
      "execution_count": 24,
      "outputs": [
        {
          "output_type": "stream",
          "name": "stdout",
          "text": [
            "name: pie , flavor:sweet, dessert: apple_pie\n"
          ]
        }
      ]
    },
    {
      "cell_type": "markdown",
      "source": [
        "Q4"
      ],
      "metadata": {
        "id": "DyYiTDchwsEi"
      }
    },
    {
      "cell_type": "code",
      "source": [
        "class Person:\n",
        "  def __init__(self,name,age,gender):\n",
        "    self.name=name\n",
        "    self.__age=age\n",
        "    self.gender=gender\n",
        "  def say_hello(self):\n",
        "    print(f'Greetins from {self.name}')\n",
        "  def is_adult(self):\n",
        "    if self.__age>=18:\n",
        "     return True\n",
        "    else:\n",
        "      return False\n",
        "  #part of Q4 task 4\n",
        "  def set_age(self,age):\n",
        "    self.__age=age\n",
        "  def get_age(self):\n",
        "    return self.__age\n"
      ],
      "metadata": {
        "id": "E1wQehi4wtWr"
      },
      "execution_count": 44,
      "outputs": []
    },
    {
      "cell_type": "code",
      "source": [
        "class Student(Person):\n",
        "  def __init(self,student_id,course):\n",
        "    self.student_id=student_id\n",
        "    self.course=course\n",
        "  def get_course(self):\n",
        "    return self.course\n"
      ],
      "metadata": {
        "id": "kjsJp0Y1xoXl"
      },
      "execution_count": 40,
      "outputs": []
    },
    {
      "cell_type": "code",
      "source": [
        "class Teacher(Person):\n",
        "  def __init__(self,teacher_id,subject):\n",
        "    self.teacher_id=teacher_id\n",
        "    self.subject=subject\n",
        "  def say_hello(self):\n",
        "    print(f'Greetins My name is: {self.name} and Im a your teacher')"
      ],
      "metadata": {
        "id": "LFlpolB7yFSa"
      },
      "execution_count": 41,
      "outputs": []
    },
    {
      "cell_type": "code",
      "source": [
        "Javier = Teacher('C0891259','Python')\n",
        "Javier.name='Javier'\n",
        "Javier.say_hello()\n",
        "Javier.set_age(33)\n",
        "age =Javier.get_age()\n",
        "print(f'The age is: {age}')"
      ],
      "metadata": {
        "colab": {
          "base_uri": "https://localhost:8080/"
        },
        "id": "FBxv1hNfyyO7",
        "outputId": "a69d5b4a-89fe-480f-853c-36556aa458c9"
      },
      "execution_count": 43,
      "outputs": [
        {
          "output_type": "stream",
          "name": "stdout",
          "text": [
            "Greetins My name is: Javier and Im a your teacher\n",
            "The age is: 33\n"
          ]
        }
      ]
    }
  ]
}